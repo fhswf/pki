{
 "cells": [
  {
   "cell_type": "markdown",
   "id": "c9fde58a",
   "metadata": {},
   "source": [
    "<figure>\n",
    "  <IMG SRC=\"https://upload.wikimedia.org/wikipedia/commons/thumb/d/d5/Fachhochschule_Südwestfalen_20xx_logo.svg/320px-Fachhochschule_Südwestfalen_20xx_logo.svg.png\" WIDTH=250 ALIGN=\"right\">\n",
    "</figure>\n",
    "\n",
    "# Programmierung für KI\n",
    "### Winterersemester 2025/26\n",
    "Prof. Dr. Heiner Giefers"
   ]
  },
  {
   "cell_type": "code",
   "execution_count": null,
   "id": "d7e26b36",
   "metadata": {
    "slideshow": {
     "slide_type": "skip"
    }
   },
   "outputs": [],
   "source": [
    "#import sys\n",
    "#!{sys.executable} -m pip install \"numpy==1.23.5\"\n",
    "%reload_ext nbtutor"
   ]
  },
  {
   "cell_type": "markdown",
   "id": "1341f20b",
   "metadata": {
    "slideshow": {
     "slide_type": "slide"
    },
    "tags": []
   },
   "source": [
    "<figure>\n",
    "  <IMG SRC=\"https://upload.wikimedia.org/wikipedia/commons/thumb/d/d5/Fachhochschule_Südwestfalen_20xx_logo.svg/320px-Fachhochschule_Südwestfalen_20xx_logo.svg.png\" WIDTH=250 ALIGN=\"right\">\n",
    "</figure>\n",
    "\n",
    "# Programmierung für KI\n",
    "### Wintersemester 2025/26\n",
    "Prof. Dr. Heiner Giefers"
   ]
  },
  {
   "cell_type": "markdown",
   "id": "fa303373",
   "metadata": {
    "slideshow": {
     "slide_type": "slide"
    }
   },
   "source": [
    "## Python Basics\n",
    "\n",
    "1. Jupyter\n",
    "1. Variablen\n",
    "1. `print`\n",
    "1. Ausdrücke\n",
    "1. Boolsche Ausdrücke\n",
    "1. Kontrollfluss\n",
    "1. Formatierung"
   ]
  },
  {
   "cell_type": "markdown",
   "id": "c9093ba9",
   "metadata": {
    "slideshow": {
     "slide_type": "slide"
    }
   },
   "source": [
    "<h3><strike>Variablen</strike> Referenzen</h3>\n",
    "\n",
    "```python\n",
    "a = 12\n",
    "b = 12.0 \n",
    "c = \"Hallo Welt!\"\n",
    "d = \"Hallo\" + \" Welt!\"\n",
    "```"
   ]
  },
  {
   "cell_type": "code",
   "execution_count": null,
   "id": "b86a1a55",
   "metadata": {
    "slideshow": {
     "slide_type": "slide"
    }
   },
   "outputs": [],
   "source": [
    "%%nbtutor -r -f\n",
    "a = 12\n",
    "b = 12.0\n",
    "c = \"Hallo Welt!\"\n",
    "d = \"Hallo\" + \" Welt!\""
   ]
  },
  {
   "cell_type": "markdown",
   "id": "4046a230",
   "metadata": {
    "slideshow": {
     "slide_type": "slide"
    }
   },
   "source": [
    "### Bezeichner\n",
    "\n",
    "- Klein- oder Großbuchstaben, Ziffern, oder Unterstriche (`_`)\n",
    "- Das erste Zeichen\n",
    "  - darf keine Ziffer sein\n",
    "  - sollte kein Unterstrich sein (Namen, die mit Unterstrich(en) beginnen, haben eine spezielle Bedeutung)\n",
    "- Schlüsselwörter können nicht als Bezeichner gewählt werden\n",
    "- Funktionen und viele Konstanten sind keine Schlüsselwörter\n",
    "  - Wenn man nicht aufpasst, kann man Namen überdecken (\"umdefinieren\")"
   ]
  },
  {
   "cell_type": "code",
   "execution_count": null,
   "id": "6a9d06e4",
   "metadata": {
    "slideshow": {
     "slide_type": "fragment"
    }
   },
   "outputs": [],
   "source": [
    "#and = 5\n",
    "#and + and\n",
    "xxx = print\n",
    "xxx(\"Hello\")"
   ]
  },
  {
   "cell_type": "code",
   "execution_count": null,
   "id": "02520b13",
   "metadata": {
    "slideshow": {
     "slide_type": "subslide"
    }
   },
   "outputs": [],
   "source": [
    "def myinput(s):\n",
    "    print(s)\n",
    "    return 42\n",
    "\n",
    "i_old = input\n",
    "input = myinput\n",
    "x = input(\"Gib eine Zahl ein: \")\n",
    "print(x)\n",
    "input = i_old"
   ]
  },
  {
   "cell_type": "markdown",
   "id": "7ec1ba6b",
   "metadata": {
    "slideshow": {
     "slide_type": "slide"
    }
   },
   "source": [
    "### Die `print` Anweisung"
   ]
  },
  {
   "cell_type": "code",
   "execution_count": null,
   "id": "15b9e7e1",
   "metadata": {
    "slideshow": {
     "slide_type": "-"
    }
   },
   "outputs": [],
   "source": [
    "laenge = 5\n",
    "print(\"Die Kantenlänge ist\", laenge, \"cm\")\n",
    "print(\"Die Kantenlänge ist %d cm\" % (laenge))\n",
    "print(f\"Die Kantenlänge ist {laenge} cm\")"
   ]
  },
  {
   "cell_type": "markdown",
   "id": "0cc20246",
   "metadata": {
    "slideshow": {
     "slide_type": "slide"
    }
   },
   "source": [
    "### `print` ohne Zeilenumbuch"
   ]
  },
  {
   "cell_type": "code",
   "execution_count": null,
   "id": "7bee243c",
   "metadata": {
    "slideshow": {
     "slide_type": "-"
    }
   },
   "outputs": [],
   "source": [
    "i=1\n",
    "while(i<10):\n",
    "    print(i, end=' ')\n",
    "    i = i + 1"
   ]
  },
  {
   "cell_type": "code",
   "execution_count": null,
   "id": "431e8555",
   "metadata": {
    "slideshow": {
     "slide_type": "fragment"
    }
   },
   "outputs": [],
   "source": [
    "help(print)"
   ]
  },
  {
   "cell_type": "markdown",
   "id": "640ee7ab",
   "metadata": {
    "slideshow": {
     "slide_type": "slide"
    }
   },
   "source": [
    "### Ausdrücke\n",
    "- Alles, was sich zu einem Wert evaluieren lässt\n",
    "- Konstanten, Variablen, Funktionsaufrufe\n",
    "- Auch kombiniert mit Operatoren"
   ]
  },
  {
   "cell_type": "code",
   "execution_count": null,
   "id": "8ef99584",
   "metadata": {
    "slideshow": {
     "slide_type": "fragment"
    }
   },
   "outputs": [],
   "source": [
    "4\n",
    "a\n",
    "a + 42\n",
    "sum([1]) + 5\n",
    "x = a + sum([1]) + 5"
   ]
  },
  {
   "cell_type": "markdown",
   "id": "b09de926",
   "metadata": {
    "slideshow": {
     "slide_type": "slide"
    }
   },
   "source": [
    "### Boolesche Ausdrücke\n",
    "- Lassen sich zu `True` oder `False` auswerten\n",
    "- Werden für *Kontrollfluss* benötigt"
   ]
  },
  {
   "cell_type": "code",
   "execution_count": null,
   "id": "75529e34",
   "metadata": {
    "slideshow": {
     "slide_type": "fragment"
    }
   },
   "outputs": [],
   "source": [
    "a = 4\n",
    "x = a < 4\n",
    "x == 1\n",
    "#a = 1 ; b = 0\n",
    "#a > 0 and b > 0\n",
    "#liste = ['a']\n",
    "#i = 2\n",
    "##liste[i] == 'b'\n",
    "#i < len(liste) and liste[i] == 'b'"
   ]
  },
  {
   "cell_type": "markdown",
   "id": "5cf091b4",
   "metadata": {
    "slideshow": {
     "slide_type": "slide"
    }
   },
   "source": [
    "### Bedingte Ausführung\n",
    "- Die Überprüfung einer *Bedingung* entscheidet, ob ein **Block** von Anweisungen ausgeführt wird\n",
    "- Python verwendet für Blöcke keine Klammern (so wie viele andere Programmiersprachen) sondern **Einrückungen**\n",
    "- Achtung: Bitte Leerzeichen verwenden (und **keine** Tabulatoren)!"
   ]
  },
  {
   "cell_type": "code",
   "execution_count": null,
   "id": "d6a29ff8",
   "metadata": {
    "slideshow": {
     "slide_type": "fragment"
    }
   },
   "outputs": [],
   "source": [
    "x = 1\n",
    "bed = \"Ja\"\n",
    "if (x>0 and bed==\"Ja\"):\n",
    "    x = 0\n",
    "    res = 42\n",
    "print(x)"
   ]
  },
  {
   "cell_type": "markdown",
   "id": "f2b5650d",
   "metadata": {
    "slideshow": {
     "slide_type": "slide"
    }
   },
   "source": [
    "### Alternativen"
   ]
  },
  {
   "cell_type": "code",
   "execution_count": null,
   "id": "7184bbeb",
   "metadata": {
    "slideshow": {
     "slide_type": "-"
    }
   },
   "outputs": [],
   "source": [
    "a = 1 ; b = 1\n",
    "if(a<b):\n",
    "    print(\"Kleiner\")\n",
    "if(a>b):\n",
    "    print(\"Groesser\")\n",
    "else:\n",
    "    print(\"Gleich\")"
   ]
  },
  {
   "cell_type": "markdown",
   "id": "7070fdd9",
   "metadata": {
    "slideshow": {
     "slide_type": "slide"
    }
   },
   "source": [
    "### Als Nächstes\n",
    "- Eigene **Funktionen** definieren\n",
    "- **Schleifen** (`while` und `for`)\n",
    "- Mehr über **Zeichenketten** (*strings*)\n",
    "- Lesen aus und speichern in **Dateien**\n",
    "- **Zum 3. Termin**\n",
    "    - Listen, Tupel und Dictionaries\n",
    "    - Wenn wir dort sind, kann man schon sinnvolle Programme/Scripts schreiben"
   ]
  },
  {
   "cell_type": "code",
   "execution_count": null,
   "id": "aaf00cbc",
   "metadata": {
    "slideshow": {
     "slide_type": "skip"
    }
   },
   "outputs": [],
   "source": [
    "pp, p = 1,1\n",
    "i=2\n",
    "while(i<100000):\n",
    "    pp, p = p, pp+p\n",
    "    i = i+1\n",
    "p\n",
    "len(str(p))"
   ]
  },
  {
   "cell_type": "code",
   "execution_count": null,
   "id": "4b389bdc",
   "metadata": {
    "slideshow": {
     "slide_type": "skip"
    }
   },
   "outputs": [],
   "source": []
  },
  {
   "cell_type": "code",
   "execution_count": null,
   "id": "f555e5a5",
   "metadata": {
    "cell_style": "split",
    "slideshow": {
     "slide_type": "skip"
    }
   },
   "outputs": [],
   "source": [
    "def bar():\n",
    "    print(\"In bar()\")"
   ]
  },
  {
   "cell_type": "code",
   "execution_count": null,
   "id": "74527520",
   "metadata": {
    "cell_style": "split",
    "slideshow": {
     "slide_type": "skip"
    }
   },
   "outputs": [],
   "source": [
    "bar()\n"
   ]
  }
 ],
 "metadata": {
  "kernelspec": {
   "display_name": "Python 3 (ipykernel)",
   "language": "python",
   "name": "python3"
  },
  "language_info": {
   "codemirror_mode": {
    "name": "ipython",
    "version": 3
   },
   "file_extension": ".py",
   "mimetype": "text/x-python",
   "name": "python",
   "nbconvert_exporter": "python",
   "pygments_lexer": "ipython3",
   "version": "3.11.5"
  },
  "rise": {
   "enable_chalkboard": true
  },
  "varInspector": {
   "cols": {
    "lenName": 16,
    "lenType": 16,
    "lenVar": 40
   },
   "kernels_config": {
    "python": {
     "delete_cmd_postfix": "",
     "delete_cmd_prefix": "del ",
     "library": "var_list.py",
     "varRefreshCmd": "print(var_dic_list())"
    },
    "r": {
     "delete_cmd_postfix": ") ",
     "delete_cmd_prefix": "rm(",
     "library": "var_list.r",
     "varRefreshCmd": "cat(var_dic_list()) "
    }
   },
   "types_to_exclude": [
    "module",
    "function",
    "builtin_function_or_method",
    "instance",
    "_Feature"
   ],
   "window_display": false
  }
 },
 "nbformat": 4,
 "nbformat_minor": 5
}
