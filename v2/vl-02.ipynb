{
 "cells": [
  {
   "cell_type": "markdown",
   "id": "7301eb59",
   "metadata": {},
   "source": [
    "<figure>\n",
    "  <IMG SRC=\"https://upload.wikimedia.org/wikipedia/commons/thumb/d/d5/Fachhochschule_Südwestfalen_20xx_logo.svg/320px-Fachhochschule_Südwestfalen_20xx_logo.svg.png\" WIDTH=250 ALIGN=\"right\">\n",
    "</figure>\n",
    "\n",
    "# Programmierung für KI\n",
    "### Winterersemester 2025/26\n",
    "Prof. Dr. Heiner Giefers"
   ]
  },
  {
   "cell_type": "code",
   "execution_count": null,
   "id": "6d863541",
   "metadata": {
    "slideshow": {
     "slide_type": "skip"
    }
   },
   "outputs": [],
   "source": [
    "%load_ext tutormagic\n",
    "\n",
    "from IPython.core.display import HTML\n",
    "\n",
    "HTML(\"\"\"\n",
    "<style>\n",
    "ul {\n",
    "    margin-top: 0.3em !important;\n",
    "    margin-bottom: 0.3em !important;\n",
    "    padding-left: 1em !important; /* Einzug anpassen */\n",
    "}\n",
    "</style>\n",
    "\"\"\")"
   ]
  },
  {
   "cell_type": "markdown",
   "id": "4c629912",
   "metadata": {
    "slideshow": {
     "slide_type": "slide"
    }
   },
   "source": [
    "#### <figure>\n",
    "  <IMG SRC=\"https://upload.wikimedia.org/wikipedia/commons/thumb/d/d5/Fachhochschule_Südwestfalen_20xx_logo.svg/320px-Fachhochschule_Südwestfalen_20xx_logo.svg.png\" WIDTH=250 ALIGN=\"right\">\n",
    "</figure>\n",
    "\n",
    "# Programmierung für KI\n",
    "### Wintersemester 2025/26\n",
    "Prof. Dr. Heiner Giefers"
   ]
  },
  {
   "cell_type": "markdown",
   "id": "c9ccc502",
   "metadata": {
    "slideshow": {
     "slide_type": "slide"
    }
   },
   "source": [
    "## Python Basics\n",
    "\n",
    "#### Bezeichner und Ausdrücke\n",
    "  - Variablen\n",
    "  - Formatierung und Kommentare\n",
    "  - Ausdrücke\n",
    "  - Boolsche Ausdrücke\n",
    "#### Kontrollfluss\n",
    "  - Bedingte und alternative Ausführung\n",
    "  - Schleifen (`while` und `for`)\n",
    "  - Funktionen\n",
    "#### Weiteres \n",
    "  - Dateien, Zeichenketten, ..."
   ]
  },
  {
   "cell_type": "markdown",
   "id": "a5b9b397",
   "metadata": {
    "slideshow": {
     "slide_type": "slide"
    }
   },
   "source": [
    "<h2><strike>Variablen</strike> Namen</h2>\n",
    "\n",
    "- <font color=\"red\">In Python gibt es keine (klassischen) Variablen</font>\n",
    "- Objekte können mit einem *Namen* bezeichnet werden\n",
    "- Objekte haben einen Typ\n",
    "\n",
    "```python\n",
    "a = 12\n",
    "b = 12.0 \n",
    "c = \"Hallo Welt!\"\n",
    "d = \"Hallo\" + \" Welt!\"\n",
    "```"
   ]
  },
  {
   "cell_type": "code",
   "execution_count": null,
   "id": "d03e3c00",
   "metadata": {
    "slideshow": {
     "slide_type": "slide"
    }
   },
   "outputs": [],
   "source": [
    "%%tutor --lang python3 --cumulative --heapPrimitives\n",
    "a = 12\n",
    "b = 12.0\n",
    "c = \"Hallo Welt!\"\n",
    "d = \"Hallo\" + \" Welt!\""
   ]
  },
  {
   "cell_type": "markdown",
   "id": "6ff40f4f",
   "metadata": {
    "slideshow": {
     "slide_type": "slide"
    }
   },
   "source": [
    "## Bezeichner\n",
    "\n",
    "- Klein- oder Großbuchstaben, Ziffern, oder Unterstriche (`_`)\n",
    "- Das erste Zeichen\n",
    "  - darf keine Ziffer sein\n",
    "  - sollte kein Unterstrich sein (Namen, die mit Unterstrich(en) beginnen, haben eine spezielle Bedeutung)\n",
    "- Schlüsselwörter können nicht als Bezeichner gewählt werden\n",
    "- Funktionen und viele Konstanten sind keine Schlüsselwörter\n",
    "- Wenn man nicht aufpasst, kann man Namen überdecken (\"umdefinieren\")"
   ]
  },
  {
   "cell_type": "code",
   "execution_count": null,
   "id": "615228c2",
   "metadata": {
    "slideshow": {
     "slide_type": "fragment"
    }
   },
   "outputs": [],
   "source": [
    "#and = 5 \n",
    "#and + and\n",
    "xxx = print\n",
    "xxx(\"Hello\") "
   ]
  },
  {
   "cell_type": "markdown",
   "id": "0b8af9c1",
   "metadata": {
    "slideshow": {
     "slide_type": "subslide"
    }
   },
   "source": [
    "Es kann auch sinnvoll sein, Standard-Funktionen umzubenennen"
   ]
  },
  {
   "cell_type": "code",
   "execution_count": null,
   "id": "659bf309",
   "metadata": {
    "slideshow": {
     "slide_type": "-"
    }
   },
   "outputs": [],
   "source": [
    "def myinput(s):\n",
    "    print(s)\n",
    "    return 42\n",
    "\n",
    "i_old = input\n",
    "input = myinput\n",
    "x = input(\"Gib eine Zahl ein: \")\n",
    "print(x)\n",
    "input = i_old"
   ]
  },
  {
   "cell_type": "markdown",
   "id": "e7d9a9ac",
   "metadata": {
    "slideshow": {
     "slide_type": "slide"
    }
   },
   "source": [
    "## Die `print` Anweisung"
   ]
  },
  {
   "cell_type": "code",
   "execution_count": null,
   "id": "e00e1569",
   "metadata": {
    "slideshow": {
     "slide_type": "-"
    }
   },
   "outputs": [],
   "source": [
    "laenge = 5\n",
    "print(\"Die Kantenlänge ist\", laenge, \"cm\")\n",
    "print(\"Die Kantenlänge ist %d cm\" % (laenge))\n",
    "print(f\"Die Kantenlänge ist {laenge} cm\")"
   ]
  },
  {
   "cell_type": "markdown",
   "id": "11ee5869",
   "metadata": {
    "slideshow": {
     "slide_type": "slide"
    }
   },
   "source": [
    "### `print` ohne Zeilenumbuch"
   ]
  },
  {
   "cell_type": "code",
   "execution_count": null,
   "id": "c4bb6145",
   "metadata": {
    "slideshow": {
     "slide_type": "-"
    }
   },
   "outputs": [],
   "source": [
    "i=1\n",
    "while(i<10):\n",
    "    print(i, end=' ')\n",
    "    i = i + 1"
   ]
  },
  {
   "cell_type": "code",
   "execution_count": null,
   "id": "c877e780",
   "metadata": {
    "slideshow": {
     "slide_type": "fragment"
    }
   },
   "outputs": [],
   "source": [
    "help(print)"
   ]
  },
  {
   "cell_type": "markdown",
   "id": "aa11fc26",
   "metadata": {
    "slideshow": {
     "slide_type": "slide"
    }
   },
   "source": [
    "## Ausdrücke\n",
    "- <font color=\"red\">Alles, was sich zu einem Wert evaluieren lässt</font>\n",
    "- Konstanten, Variablen, Funktionsaufrufe\n",
    "- Auch kombiniert mit Operatoren"
   ]
  },
  {
   "cell_type": "markdown",
   "id": "cab64367",
   "metadata": {
    "slideshow": {
     "slide_type": "fragment"
    }
   },
   "source": [
    "```python\n",
    "4\n",
    "a\n",
    "a + 42\n",
    "sum([1]) + 5\n",
    "x = a + sum([1]) + 5 # Zuweisung\n",
    "```"
   ]
  },
  {
   "cell_type": "markdown",
   "id": "037c73fd",
   "metadata": {
    "cell_style": "split",
    "slideshow": {
     "slide_type": "slide"
    }
   },
   "source": [
    "## Boolesche Ausdrücke\n",
    "- Lassen sich zu `True` oder `False` auswerten\n",
    "- Werden für *Kontrollfluss* benötigt\n",
    "- Vergleiche (`>`, `>=`, `<`, `<=`, `==`, `!=`)\n",
    "- Verknüpfungen (`and`,`or`,`not`)\n",
    "- Werte, die als **False** gelten (u.a): `0`, `0.0`, `''`, `[]`, `None`"
   ]
  },
  {
   "cell_type": "code",
   "execution_count": null,
   "id": "781bf59c",
   "metadata": {
    "cell_style": "split",
    "slideshow": {
     "slide_type": "fragment"
    }
   },
   "outputs": [],
   "source": [
    "a = 1\n",
    "x = a < 4\n",
    "print(x == 1)\n",
    "\n",
    "y = 0\n",
    "print(x > 0 and y > 0)\n",
    "\n",
    "li = ['a']\n",
    "i = 1\n",
    "print(i < len(li) and li[i] == 'b')\n"
   ]
  },
  {
   "cell_type": "markdown",
   "id": "10c15f3b",
   "metadata": {
    "slideshow": {
     "slide_type": "slide"
    }
   },
   "source": [
    "# Kontrollfluss\n",
    "\n"
   ]
  },
  {
   "cell_type": "markdown",
   "id": "5380c315",
   "metadata": {
    "slideshow": {
     "slide_type": "slide"
    }
   },
   "source": [
    "## Bedingte Ausführung\n",
    "- Die Überprüfung einer *Bedingung* entscheidet, ob ein **Block** von Anweisungen ausgeführt wird\n",
    "- Python verwendet für Blöcke keine Klammern (so wie viele andere Programmiersprachen) sondern **Einrückungen**\n",
    "- Achtung: Bitte Leerzeichen verwenden (und **keine** Tabulatoren)!"
   ]
  },
  {
   "cell_type": "code",
   "execution_count": null,
   "id": "a27ea061",
   "metadata": {
    "slideshow": {
     "slide_type": "fragment"
    }
   },
   "outputs": [],
   "source": [
    "x = 1\n",
    "doit = \"yes\"\n",
    "if x>0 and doit==\"yes\": \n",
    "    x = 0\n",
    "    res = 42\n",
    "print(x)"
   ]
  },
  {
   "cell_type": "markdown",
   "id": "a1de89e6",
   "metadata": {
    "slideshow": {
     "slide_type": "slide"
    }
   },
   "source": [
    "## Alternativen"
   ]
  },
  {
   "cell_type": "code",
   "execution_count": null,
   "id": "59aec9f3",
   "metadata": {
    "slideshow": {
     "slide_type": "-"
    }
   },
   "outputs": [],
   "source": [
    "a = 1 ; b = 1\n",
    "if(a<b):\n",
    "    print(\"Kleiner\")\n",
    "else:\n",
    "    print(\"Groesser oder Gleich\")"
   ]
  },
  {
   "cell_type": "markdown",
   "id": "5e626f93",
   "metadata": {
    "slideshow": {
     "slide_type": "subslide"
    }
   },
   "source": [
    "## Alternativen"
   ]
  },
  {
   "cell_type": "code",
   "execution_count": null,
   "id": "db7c8ff3",
   "metadata": {
    "slideshow": {
     "slide_type": "-"
    }
   },
   "outputs": [],
   "source": [
    "a = 1 ; b = 1\n",
    "if(a<b):\n",
    "    print(\"Kleiner\")\n",
    "elif(a>b):\n",
    "    print(\"Groesser\")\n",
    "else:\n",
    "    print(\"Gleich\")"
   ]
  },
  {
   "cell_type": "markdown",
   "id": "291141c3",
   "metadata": {
    "slideshow": {
     "slide_type": "subslide"
    }
   },
   "source": [
    "## Ab Python 3.10 gibt es ein `match-case`-Konstrukt"
   ]
  },
  {
   "cell_type": "code",
   "execution_count": null,
   "id": "924165ed",
   "metadata": {
    "slideshow": {
     "slide_type": "-"
    }
   },
   "outputs": [],
   "source": [
    "radius = breite = hoehe = 2\n",
    "#form = \"Kreis\"\n",
    "form = input(\"Gib eine geometrische Figur ein: \")\n",
    "match form:\n",
    "    case \"Kreis\":\n",
    "        print(\"Die Fläche ist\", 3.14159 * radius * radius)\n",
    "    case \"Rechteck\":\n",
    "        print(\"Die Fläche ist\", breite * hoehe)\n",
    "    case \"Dreieck\":\n",
    "        print(\"Die Fläche ist\", 0.5 * breite * hoehe)\n",
    "    case _:\n",
    "        print(\"Unbekannte Form!\")"
   ]
  },
  {
   "cell_type": "markdown",
   "id": "0cac0139",
   "metadata": {
    "slideshow": {
     "slide_type": "slide"
    }
   },
   "source": [
    "## Schleifen\n",
    "- Python kennt 2 Arten von Schleifen\n",
    "- `while`<br>Solange eine Bedingung gilt, führe einen bestimmten Anweisungsblock aus\n",
    "- `for`<br>Für alle Elemente eine Folge, führe einen bestimmten Anweisungsblock aus\n",
    "- Schleifen können *geschachtelt* sein"
   ]
  },
  {
   "cell_type": "code",
   "execution_count": null,
   "id": "0be4b0d7",
   "metadata": {
    "cell_style": "split",
    "slideshow": {
     "slide_type": "subslide"
    }
   },
   "outputs": [],
   "source": [
    "potenz = 1\n",
    "while(potenz<1000):\n",
    "    print(potenz)\n",
    "    potenz *= 2"
   ]
  },
  {
   "cell_type": "code",
   "execution_count": null,
   "id": "89cd1e55",
   "metadata": {
    "cell_style": "split",
    "slideshow": {
     "slide_type": "fragment"
    }
   },
   "outputs": [],
   "source": [
    "liste = [1, 'Zwei', 3.0]\n",
    "\n",
    "print(\"Liste: \", end='')\n",
    "for elem in liste:\n",
    "    print(elem, end=' ')\n",
    "\n",
    "print(\"\\n\\nrange: \", end='')\n",
    "for i in range(10):\n",
    "    print(i, end=' ')"
   ]
  },
  {
   "cell_type": "markdown",
   "id": "bbf9aab8",
   "metadata": {
    "slideshow": {
     "slide_type": "slide"
    }
   },
   "source": [
    "## Funktionen\n",
    "\n",
    "<p style=\"color:red;\">Die Anweisung <code style=\"color:red;\">def</code> verbindet einen (ggf. neuen) Namen (für eine Funktion) mit einem Block (von Anweisungen)</p>\n",
    "    \n",
    "- Der Name verweist auf das erzeugte Funktionsobjekt, das den Anweisungsblock enthält\n",
    "- Namen sind Bezeichner und folgen den bekannten Syntaxregeln\n",
    "- Funktionen können in Funktionen definiert werden\n",
    "- Funktionen sind *First-Class Objects*: sie können dynamisch erzeugt, als Argumente übergeben oder zurückgegeben werden"
   ]
  },
  {
   "cell_type": "code",
   "execution_count": null,
   "id": "2459d93d",
   "metadata": {
    "slideshow": {
     "slide_type": "subslide"
    }
   },
   "outputs": [],
   "source": [
    "def funktionsname(a, b=2, *args, **kwargs):\n",
    "    \"\"\"\n",
    "    Kurze Beschreibung der Funktion.\n",
    "    Parameter:\n",
    "        a: Bedeutung von Parameter a\n",
    "        b (optional): Bedeutung von parameter b\n",
    "        *args: Weitere Positionsargumente\n",
    "        **kwargs: Weitere benannte Argumente\n",
    "    Rückgabe:\n",
    "        Beschreibung des Rückgabewerts\n",
    "    \"\"\"\n",
    "    print(f\"a={a} b={b}\", end=' ')\n",
    "    for arg in args: print(arg, end=' ');\n",
    "    for kwarg in kwargs: print(f\"{kwarg}={kwargs[kwarg]}\", end=' ');\n",
    "    return (a,b,args,kwargs)\n",
    "funktionsname(1, 3, 4, 5, c=6, d=7)"
   ]
  },
  {
   "cell_type": "code",
   "execution_count": null,
   "id": "9c5bbb04",
   "metadata": {
    "slideshow": {
     "slide_type": "fragment"
    }
   },
   "outputs": [],
   "source": [
    "help(funktionsname)"
   ]
  },
  {
   "cell_type": "markdown",
   "id": "d4a38060",
   "metadata": {
    "cell_style": "split",
    "slideshow": {
     "slide_type": "slide"
    }
   },
   "source": [
    "## Funktionsaufruf\n",
    "\n",
    "- Funktionsnamen mit `()`\n",
    "- Argumente übergeben\n",
    "- Eine Funktion besitzt *Parameter* \n",
    "- Beim Aufruf übergibt man *Argumente* an die Funktion\n",
    "- Parameter können *default*-Werte besitzen (und sind damit optional)"
   ]
  },
  {
   "cell_type": "code",
   "execution_count": null,
   "id": "938b1273",
   "metadata": {
    "cell_style": "split",
    "slideshow": {
     "slide_type": "fragment"
    }
   },
   "outputs": [],
   "source": [
    "def print_params(a,b,c):\n",
    "    print(a)\n",
    "    print(b)\n",
    "    print(c)\n",
    "    \n",
    "print(1,2,3)"
   ]
  },
  {
   "cell_type": "markdown",
   "id": "cd2bc3ce",
   "metadata": {
    "cell_style": "center",
    "slideshow": {
     "slide_type": "subslide"
    }
   },
   "source": [
    "## Aufrufsemantik\n",
    "\n",
    "- Die Aufrufsemantik von Python ist <font color=\"red\">Pass-by-assignment</font>\n",
    "- Die Parameter zeigen auf dieselben Objekte wie die Argumente\n",
    "- Ändert sich auch der Wert eines Arguments (ausserhalb der Funktion), wenn man den Parameter innerhalb der Funktion ändert?\n",
    "- Antwort: Das liegt daran, ob der Typ des Arguments ein *veränderbarer* Typ oder ein *nicht-veränderbarer* Typ ist"
   ]
  },
  {
   "cell_type": "code",
   "execution_count": null,
   "id": "4209d7ca",
   "metadata": {
    "cell_style": "split",
    "slideshow": {
     "slide_type": "-"
    }
   },
   "outputs": [],
   "source": [
    "def foo(arg):\n",
    "    arg += 1\n",
    "    print(arg)"
   ]
  },
  {
   "cell_type": "code",
   "execution_count": null,
   "id": "7a2fd23d",
   "metadata": {
    "cell_style": "split",
    "slideshow": {
     "slide_type": "-"
    }
   },
   "outputs": [],
   "source": [
    "x = 1\n",
    "foo(x)\n",
    "print(x)"
   ]
  },
  {
   "cell_type": "code",
   "execution_count": null,
   "id": "958d331b",
   "metadata": {
    "slideshow": {
     "slide_type": "subslide"
    }
   },
   "outputs": [],
   "source": [
    "%%tutor --lang python3 --cumulative --heapPrimitives\n",
    "def foo(arg):\n",
    "    arg += [3,4]\n",
    "    print(arg)\n",
    "    \n",
    "x = [1,2]\n",
    "foo(x)\n",
    "print(x)"
   ]
  },
  {
   "cell_type": "markdown",
   "id": "c3f0fdae",
   "metadata": {
    "cell_style": "split",
    "slideshow": {
     "slide_type": "slide"
    }
   },
   "source": [
    "## Namensräume\n",
    "\n",
    "Name, an den innerhalb einer Funktion zugewiesen wird, ist lokal zu dieser Funktion\n",
    "- Existiert nur, solange Anweisungen dieser Funktion ausgeführt werden\n",
    "- Referenzen sind nach dem Ende der Funktion *verloren*\n",
    "- Außnahmen sind `global` oder `nonlocal` Referenzen"
   ]
  },
  {
   "cell_type": "code",
   "execution_count": null,
   "id": "4272fb6e",
   "metadata": {
    "cell_style": "split",
    "slideshow": {
     "slide_type": "fragment"
    }
   },
   "outputs": [],
   "source": [
    "a = \"globales a\"\n",
    "def f():\n",
    "    a = \"lokales a\"\n",
    "    print(a)\n",
    "\n",
    "f()\n",
    "print(a)"
   ]
  },
  {
   "cell_type": "markdown",
   "id": "278fdb29",
   "metadata": {
    "cell_style": "split",
    "slideshow": {
     "slide_type": "slide"
    }
   },
   "source": [
    "## Rückgabewert\n",
    "\n",
    "- Ein Rückgabewert ist der Wert, den eine Funktion nach ihrer Ausführung an den Aufrufer zurückgibt.\n",
    "- Warum? Variablen, die nur innerhalb der Funktion definiert sind, gehen nach dem Funktionsaufruf verloren.\n",
    "- Mit dem Schlüsselwort `return` wird ein Wert an die aufrufende Stelle zurückgegeben."
   ]
  },
  {
   "cell_type": "code",
   "execution_count": null,
   "id": "660e8844",
   "metadata": {
    "cell_style": "split",
    "slideshow": {
     "slide_type": "fragment"
    }
   },
   "outputs": [],
   "source": [
    "def my_pow(a,b):\n",
    "    return a**b\n",
    "\n",
    "zwei_hoch_acht = my_pow(2,8)\n",
    "zwei_hoch_acht"
   ]
  },
  {
   "cell_type": "markdown",
   "id": "73b12c26",
   "metadata": {
    "slideshow": {
     "slide_type": "slide"
    }
   },
   "source": [
    "## Zeichenketten und Dateien"
   ]
  },
  {
   "cell_type": "markdown",
   "id": "08a8aa6b",
   "metadata": {
    "slideshow": {
     "slide_type": "fragment"
    }
   },
   "source": [
    "- Die wichtigste Methode für Strings ist:"
   ]
  },
  {
   "cell_type": "code",
   "execution_count": null,
   "id": "7e0acddf",
   "metadata": {
    "slideshow": {
     "slide_type": "fragment"
    }
   },
   "outputs": [],
   "source": [
    "help(str)"
   ]
  },
  {
   "cell_type": "markdown",
   "id": "e5149c45",
   "metadata": {
    "slideshow": {
     "slide_type": "slide"
    }
   },
   "source": [
    "- <code style=\"color:red;\">**str**</code> <font color=\"red\">**ist ein nicht-veränderbarer, sequentieller Datentyp**</font>\n",
    "\n",
    "| <p align=\"left\"> Notation | <p align=\"left\"> Beschreibung |\n",
    "| :--- | :--- |\n",
    "| <p align=\"left\"> `x in s` | <p align=\"left\"> Prüft, ob x in s enthalten ist. Das Ergebnis ist ein Wahrheitswert. |\n",
    "| <p align=\"left\"> `x not in s` | <p align=\"left\"> Prüft, ob x nicht in s enthalten ist. Das Ergebnis ist eine bool-Instanz. Gleichwertig mit not x in s. |\n",
    "| <p align=\"left\"> `s + t` | <p align=\"left\"> Das Ergebnis ist eine neue Sequenz, die die Verkettung von s und t enthält. |\n",
    "| <p align=\"left\"> `s += t` | <p align=\"left\"> Erzeugt die Verkettung von s und t und weist sie s zu. |"
   ]
  },
  {
   "cell_type": "markdown",
   "id": "03ec3a5e",
   "metadata": {
    "slideshow": {
     "slide_type": "subslide"
    }
   },
   "source": [
    "| <p align=\"left\"> Notation | <p align=\"left\"> Beschreibung |\n",
    "| :--- | :--- |\n",
    "| <p align=\"left\"> `s * n oder n * s` | <p align=\"left\"> Liefert eine neue Sequenz, die die Verkettung von n Kopien von s enthält. |\n",
    "| <p align=\"left\"> `s *= n` | <p align=\"left\"> Erzeugt das Produkt s * n und weist es s zu. |\n",
    "| <p align=\"left\"> `s[i]` | <p align=\"left\"> Liefert das i-te Element von s. |\n",
    "| <p align=\"left\"> `s[i:j]` | <p align=\"left\"> Liefert den Ausschnitt aus s von i bis j. |\n",
    "| <p align=\"left\"> `s[i:j:k]` | <p align=\"left\"> Liefert den Ausschnitt aus s von i bis j, wobei nur jedes k-te Element beachtet wird. |"
   ]
  },
  {
   "cell_type": "code",
   "execution_count": null,
   "id": "430714ac",
   "metadata": {
    "slideshow": {
     "slide_type": "fragment"
    }
   },
   "outputs": [],
   "source": [
    "s = \"Hallo Welt!\"\n",
    "s[6]"
   ]
  },
  {
   "cell_type": "markdown",
   "id": "dd0a62f2",
   "metadata": {
    "slideshow": {
     "slide_type": "subslide"
    }
   },
   "source": [
    "| <p align=\"left\"> Notation | <p align=\"left\"> Beschreibung |\n",
    "| :--- | :--- |\n",
    "| <p align=\"left\"> `len(s)` | <p align=\"left\"> Gibt die Anzahl der Elemente von s zurück. |\n",
    "| <p align=\"left\"> `max(s)` | <p align=\"left\"> Liefert das größte Element von s, sofern eine Ordnungsrelation für die Elemente definiert ist. |\n",
    "| <p align=\"left\"> `min(s)` | <p align=\"left\"> Liefert das kleinste Element von s, sofern eine Ordnungsrelation für die Elemente definiert ist. |\n",
    "| <p align=\"left\"> `s.index(x)` | <p align=\"left\"> Gibt den Index des ersten Vorkommens von x in der Sequenz s zurück. |\n",
    "| <p align=\"left\"> `s.count(x)` | <p align=\"left\"> Zählt, wie oft x in der Sequenz s vorkommt. |"
   ]
  },
  {
   "cell_type": "code",
   "execution_count": null,
   "id": "b7c9cb8e",
   "metadata": {
    "slideshow": {
     "slide_type": "-"
    }
   },
   "outputs": [],
   "source": []
  },
  {
   "cell_type": "markdown",
   "id": "cd6de377",
   "metadata": {
    "slideshow": {
     "slide_type": "slide"
    }
   },
   "source": [
    "- Textersetzung mit `replace`\n",
    "- Umwandlung Groß-/Kleinschreibung mit `lower` und `upper`"
   ]
  },
  {
   "cell_type": "code",
   "execution_count": null,
   "id": "2234d66d",
   "metadata": {
    "slideshow": {
     "slide_type": "fragment"
    }
   },
   "outputs": [],
   "source": [
    "'Übergröße'.lower().replace('ü','ue').\\\n",
    "    replace('ö','oe').replace('ß','ss').upper()"
   ]
  },
  {
   "cell_type": "markdown",
   "id": "02d0d5d0",
   "metadata": {
    "slideshow": {
     "slide_type": "fragment"
    }
   },
   "source": [
    "- Mehrere Ersetzungen gleichzeitig mit `translate` und  `makerans`"
   ]
  },
  {
   "cell_type": "code",
   "execution_count": null,
   "id": "60da7a16",
   "metadata": {
    "slideshow": {
     "slide_type": "-"
    }
   },
   "outputs": [],
   "source": [
    "de_table = str.maketrans({'Ä': 'Ae', 'Ö': 'Oe', 'Ü': 'Ue', \n",
    "                          'ä': 'ae', 'ö': 'oe', 'ü': 'ue', 'ß': 'ss'})\n",
    "'Übergröße'.translate(de_table)"
   ]
  },
  {
   "cell_type": "markdown",
   "id": "ccdf0020",
   "metadata": {
    "slideshow": {
     "slide_type": "slide"
    }
   },
   "source": [
    "## Dateien\n",
    "\n",
    "- Öffnen von Datein mit `open` im Modus *read* (`r`), *write* (`w`) oder *append* (`a`)\n",
    "- Schließen mit `file.close()`\n",
    "- `file.read()` ließt den gesamten Inhalt von `file`\n",
    "- Zeilenweises Durchlaufen mit `for`\n",
    "- Zugriff auf Dateien kann fehlschlagen. Daher immer `try-catch` oder *Context Manager* (`with`-Statement) verwenden"
   ]
  },
  {
   "cell_type": "code",
   "execution_count": null,
   "id": "5fd02be3",
   "metadata": {
    "slideshow": {
     "slide_type": "subslide"
    }
   },
   "outputs": [],
   "source": [
    "try:\n",
    "    f = open('faust-utf8.txt','r')\n",
    "    i = 1\n",
    "    for line in f:\n",
    "        print(f\"{i:6d}: \",line,end='')\n",
    "        if i==50:\n",
    "            break\n",
    "        i += 1\n",
    "    f.close()\n",
    "except:\n",
    "    print('Datei konnte nicht geoeffnet werden') "
   ]
  },
  {
   "cell_type": "code",
   "execution_count": null,
   "id": "1b2fbdfb",
   "metadata": {
    "cell_style": "split",
    "slideshow": {
     "slide_type": "slide"
    }
   },
   "outputs": [],
   "source": [
    "f = open('faust-utf8.txt','r')\n",
    "f_neu = open(\"absatz.txt\", 'w')\n",
    "i = 1\n",
    "for line in f:\n",
    "    if i>=1359 and i<=1361:\n",
    "        f_neu.write(line)\n",
    "    i += 1\n",
    "    if i>1361: break;\n",
    "f.close()\n",
    "f_neu.close()"
   ]
  },
  {
   "cell_type": "code",
   "execution_count": null,
   "id": "ee03abc9",
   "metadata": {
    "cell_style": "split",
    "slideshow": {
     "slide_type": "-"
    }
   },
   "outputs": [],
   "source": [
    "f = open('absatz.txt','r')\n",
    "for line in f:\n",
    "    print(line.replace('ü','ue'), end='')\n",
    "f.close()"
   ]
  },
  {
   "cell_type": "markdown",
   "id": "0f4f5c9d",
   "metadata": {
    "cell_style": "center",
    "slideshow": {
     "slide_type": "slide"
    }
   },
   "source": [
    "## Zum 3. Termin\n",
    "- Listen, Tupel und Dictionaries\n",
    "- Wenn wir dort sind, können wir viele sinnvolle Programme schreiben:-)"
   ]
  }
 ],
 "metadata": {
  "interpreter": {
   "hash": "c6e4e9f98eb68ad3b7c296f83d20e6de614cb42e90992a65aa266555a3137d0d"
  },
  "kernelspec": {
   "display_name": "Python 3 (ipykernel)",
   "language": "python",
   "name": "python3"
  },
  "language_info": {
   "codemirror_mode": {
    "name": "ipython",
    "version": 3
   },
   "file_extension": ".py",
   "mimetype": "text/x-python",
   "name": "python",
   "nbconvert_exporter": "python",
   "pygments_lexer": "ipython3",
   "version": "3.11.5"
  },
  "rise": {
   "enable_chalkboard": true
  },
  "varInspector": {
   "cols": {
    "lenName": 16,
    "lenType": 16,
    "lenVar": 40
   },
   "kernels_config": {
    "python": {
     "delete_cmd_postfix": "",
     "delete_cmd_prefix": "del ",
     "library": "var_list.py",
     "varRefreshCmd": "print(var_dic_list())"
    },
    "r": {
     "delete_cmd_postfix": ") ",
     "delete_cmd_prefix": "rm(",
     "library": "var_list.r",
     "varRefreshCmd": "cat(var_dic_list()) "
    }
   },
   "types_to_exclude": [
    "module",
    "function",
    "builtin_function_or_method",
    "instance",
    "_Feature"
   ],
   "window_display": false
  }
 },
 "nbformat": 4,
 "nbformat_minor": 5
}
